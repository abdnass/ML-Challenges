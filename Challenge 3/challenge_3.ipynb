{
 "cells": [
  {
   "cell_type": "markdown",
   "metadata": {},
   "source": [
    "Challenge 3: Facial Expression Classification."
   ]
  },
  {
   "cell_type": "code",
   "execution_count": 1,
   "metadata": {},
   "outputs": [],
   "source": [
    "import numpy as np\n",
    "import matplotlib.pyplot as plt\n",
    "from matplotlib import colors\n",
    "import pandas as pd\n",
    "import seaborn as sns\n",
    "from tensorflow import keras\n",
    "from tensorflow.keras import layers, models\n"
   ]
  },
  {
   "cell_type": "code",
   "execution_count": 2,
   "metadata": {},
   "outputs": [],
   "source": [
    "train_path = '/Users/abdelbastnassiri/Desktop/master studies/ML Challenges/Challenge 3/data_train_Facial.npy'\n",
    "test_path = '/Users/abdelbastnassiri/Desktop/master studies/ML Challenges/Challenge 3/data_test_Facial.npy'\n",
    "lables_path = '/Users/abdelbastnassiri/Desktop/master studies/ML Challenges/Challenge 3/true_labels_Facial_train.csv'\n",
    "train_data = np.load(train_path, allow_pickle = True)\n",
    "test_data = np.load(test_path, allow_pickle = True)\n",
    "labels = np.loadtxt(lables_path)\n",
    "Emotions = ['Happy', 'Sad', 'Angry']\n"
   ]
  },
  {
   "cell_type": "code",
   "execution_count": 3,
   "metadata": {},
   "outputs": [
    {
     "data": {
      "image/png": "[encoded data removed]",
      "text/plain": [
       "<Figure size 640x480 with 9 Axes>"
      ]
     },
     "metadata": {},
     "output_type": "display_data"
    }
   ],
   "source": [
    "for k in range(9):\n",
    "    plt.subplot(3,3,k+1 )\n",
    "    plt.imshow(train_data[k, :, :], cmap = colors.ListedColormap(['white', 'yellow', 'black']))\n",
    "    plt.title(Emotions[int(labels[k])])\n",
    "       "
   ]
  },
  {
   "cell_type": "code",
   "execution_count": 4,
   "metadata": {},
   "outputs": [],
   "source": [
    "# split the Data\n",
    "# shuffle first\n",
    "i = np.arange(train_data.shape[0])\n",
    "np.random.shuffle(i)\n",
    "train_data = train_data[i]\n",
    "labels = labels[i]\n",
    "# split\n",
    "train_data_ = train_data[0:int(train_data.shape[0]*0.7)]\n",
    "train_labels = labels[0:int(train_data.shape[0]*0.7)]\n",
    "valid_data_ = train_data[int(int(train_data.shape[0]*0.7)):train_data.shape[0]]\n",
    "valid_labels = labels[int(int(train_data.shape[0]*0.7)):train_data.shape[0]]"
   ]
  },
  {
   "cell_type": "markdown",
   "metadata": {},
   "source": [
    "For this task we are going to use a Convolutional Neural Network."
   ]
  },
  {
   "cell_type": "markdown",
   "metadata": {},
   "source": [
    "## CNN"
   ]
  },
  {
   "cell_type": "markdown",
   "metadata": {},
   "source": [
    "We define the convolutional base using a stack of Conv2D and MaxPooling2D.\\\n",
    "Our CNN takes as as an input a tensor of shape (35,35, 1)."
   ]
  },
  {
   "cell_type": "code",
   "execution_count": 5,
   "metadata": {},
   "outputs": [],
   "source": [
    "model = models.Sequential()\n",
    "model.add(layers.Conv2D(32, (3, 3), activation = 'relu', input_shape = (35, 35, 1)))\n",
    "model.add(layers.MaxPool2D((2,2)))\n",
    "model.add(layers.Conv2D(64, (3, 3), activation = 'relu'))\n",
    "model.add(layers.MaxPooling2D((2,2)))\n",
    "model.add(layers.Conv2D(64, (3, 3), activation = 'relu'))\n"
   ]
  },
  {
   "cell_type": "code",
   "execution_count": 6,
   "metadata": {},
   "outputs": [
    {
     "name": "stdout",
     "output_type": "stream",
     "text": [
      "Model: \"sequential\"\n",
      "_________________________________________________________________\n",
      " Layer (type)                Output Shape              Param #   \n",
      "=================================================================\n",
      " conv2d (Conv2D)             (None, 33, 33, 32)        320       \n",
      "                                                                 \n",
      " max_pooling2d (MaxPooling2  (None, 16, 16, 32)        0         \n",
      " D)                                                              \n",
      "                                                                 \n",
      " conv2d_1 (Conv2D)           (None, 14, 14, 64)        18496     \n",
      "                                                                 \n",
      " max_pooling2d_1 (MaxPoolin  (None, 7, 7, 64)          0         \n",
      " g2D)                                                            \n",
      "                                                                 \n",
      " conv2d_2 (Conv2D)           (None, 5, 5, 64)          36928     \n",
      "                                                                 \n",
      "=================================================================\n",
      "Total params: 55744 (217.75 KB)\n",
      "Trainable params: 55744 (217.75 KB)\n",
      "Non-trainable params: 0 (0.00 Byte)\n",
      "_________________________________________________________________\n"
     ]
    }
   ],
   "source": [
    "model.summary()"
   ]
  },
  {
   "cell_type": "markdown",
   "metadata": {},
   "source": [
    "Add the dense layers."
   ]
  },
  {
   "cell_type": "code",
   "execution_count": 7,
   "metadata": {},
   "outputs": [],
   "source": [
    "model.add(layers.Flatten())\n",
    "model.add(layers.Dense(64, activation = 'relu'))\n",
    "model.add(layers.Dense(3))"
   ]
  },
  {
   "cell_type": "markdown",
   "metadata": {},
   "source": [
    "The Architecture of the model."
   ]
  },
  {
   "cell_type": "code",
   "execution_count": 8,
   "metadata": {},
   "outputs": [
    {
     "name": "stdout",
     "output_type": "stream",
     "text": [
      "Model: \"sequential\"\n",
      "_________________________________________________________________\n",
      " Layer (type)                Output Shape              Param #   \n",
      "=================================================================\n",
      " conv2d (Conv2D)             (None, 33, 33, 32)        320       \n",
      "                                                                 \n",
      " max_pooling2d (MaxPooling2  (None, 16, 16, 32)        0         \n",
      " D)                                                              \n",
      "                                                                 \n",
      " conv2d_1 (Conv2D)           (None, 14, 14, 64)        18496     \n",
      "                                                                 \n",
      " max_pooling2d_1 (MaxPoolin  (None, 7, 7, 64)          0         \n",
      " g2D)                                                            \n",
      "                                                                 \n",
      " conv2d_2 (Conv2D)           (None, 5, 5, 64)          36928     \n",
      "                                                                 \n",
      " flatten (Flatten)           (None, 1600)              0         \n",
      "                                                                 \n",
      " dense (Dense)               (None, 64)                102464    \n",
      "                                                                 \n",
      " dense_1 (Dense)             (None, 3)                 195       \n",
      "                                                                 \n",
      "=================================================================\n",
      "Total params: 158403 (618.76 KB)\n",
      "Trainable params: 158403 (618.76 KB)\n",
      "Non-trainable params: 0 (0.00 Byte)\n",
      "_________________________________________________________________\n"
     ]
    }
   ],
   "source": [
    "model.summary()"
   ]
  },
  {
   "cell_type": "markdown",
   "metadata": {},
   "source": [
    "Compile and train the model.\n",
    "\n",
    "We are going to train our model using the 'Adam' Optimizer in 50 epochs and the 'Sparse Cross Entropy' loss function."
   ]
  },
  {
   "cell_type": "code",
   "execution_count": 9,
   "metadata": {},
   "outputs": [
    {
     "name": "stdout",
     "output_type": "stream",
     "text": [
      "Epoch 1/50\n",
      "438/438 [==============================] - 5s 11ms/step - loss: 0.2962 - accuracy: 0.8800 - val_loss: 0.0889 - val_accuracy: 0.9812\n",
      "Epoch 2/50\n",
      "438/438 [==============================] - 5s 11ms/step - loss: 0.0816 - accuracy: 0.9847 - val_loss: 0.0758 - val_accuracy: 0.9835\n",
      "Epoch 3/50\n",
      "438/438 [==============================] - 5s 11ms/step - loss: 0.0631 - accuracy: 0.9882 - val_loss: 0.0637 - val_accuracy: 0.9882\n",
      "Epoch 4/50\n",
      "438/438 [==============================] - 5s 11ms/step - loss: 0.0561 - accuracy: 0.9908 - val_loss: 0.0591 - val_accuracy: 0.9890\n",
      "Epoch 5/50\n",
      "438/438 [==============================] - 5s 11ms/step - loss: 0.0480 - accuracy: 0.9915 - val_loss: 0.0651 - val_accuracy: 0.9887\n",
      "Epoch 6/50\n",
      "438/438 [==============================] - 5s 11ms/step - loss: 0.0446 - accuracy: 0.9918 - val_loss: 0.0666 - val_accuracy: 0.9865\n",
      "Epoch 7/50\n",
      "438/438 [==============================] - 5s 11ms/step - loss: 0.0375 - accuracy: 0.9920 - val_loss: 0.0672 - val_accuracy: 0.9888\n",
      "Epoch 8/50\n",
      "438/438 [==============================] - 5s 10ms/step - loss: 0.0326 - accuracy: 0.9926 - val_loss: 0.0657 - val_accuracy: 0.9893\n",
      "Epoch 9/50\n",
      "438/438 [==============================] - 5s 10ms/step - loss: 0.0262 - accuracy: 0.9931 - val_loss: 0.0778 - val_accuracy: 0.9897\n",
      "Epoch 10/50\n",
      "438/438 [==============================] - 5s 11ms/step - loss: 0.0210 - accuracy: 0.9939 - val_loss: 0.0851 - val_accuracy: 0.9897\n",
      "Epoch 11/50\n",
      "438/438 [==============================] - 5s 11ms/step - loss: 0.0185 - accuracy: 0.9950 - val_loss: 0.0969 - val_accuracy: 0.9830\n",
      "Epoch 12/50\n",
      "438/438 [==============================] - 5s 11ms/step - loss: 0.0179 - accuracy: 0.9947 - val_loss: 0.0978 - val_accuracy: 0.9868\n",
      "Epoch 13/50\n",
      "438/438 [==============================] - 5s 10ms/step - loss: 0.0105 - accuracy: 0.9965 - val_loss: 0.1010 - val_accuracy: 0.9873\n",
      "Epoch 14/50\n",
      "438/438 [==============================] - 5s 11ms/step - loss: 0.0100 - accuracy: 0.9966 - val_loss: 0.1131 - val_accuracy: 0.9862\n",
      "Epoch 15/50\n",
      "438/438 [==============================] - 5s 11ms/step - loss: 0.0105 - accuracy: 0.9966 - val_loss: 0.1046 - val_accuracy: 0.9903\n",
      "Epoch 16/50\n",
      "438/438 [==============================] - 5s 11ms/step - loss: 0.0063 - accuracy: 0.9977 - val_loss: 0.1049 - val_accuracy: 0.9868\n",
      "Epoch 17/50\n",
      "438/438 [==============================] - 5s 11ms/step - loss: 0.0131 - accuracy: 0.9952 - val_loss: 0.1126 - val_accuracy: 0.9890\n",
      "Epoch 18/50\n",
      "438/438 [==============================] - 5s 11ms/step - loss: 0.0029 - accuracy: 0.9990 - val_loss: 0.1256 - val_accuracy: 0.9885\n",
      "Epoch 19/50\n",
      "438/438 [==============================] - 5s 11ms/step - loss: 0.0036 - accuracy: 0.9987 - val_loss: 0.1310 - val_accuracy: 0.9882\n",
      "Epoch 20/50\n",
      "438/438 [==============================] - 5s 11ms/step - loss: 0.0092 - accuracy: 0.9971 - val_loss: 0.1327 - val_accuracy: 0.9907\n",
      "Epoch 21/50\n",
      "438/438 [==============================] - 5s 11ms/step - loss: 0.0067 - accuracy: 0.9979 - val_loss: 0.1349 - val_accuracy: 0.9898\n",
      "Epoch 22/50\n",
      "438/438 [==============================] - 5s 11ms/step - loss: 0.0061 - accuracy: 0.9985 - val_loss: 0.1381 - val_accuracy: 0.9880\n",
      "Epoch 23/50\n",
      "438/438 [==============================] - 5s 11ms/step - loss: 0.0030 - accuracy: 0.9991 - val_loss: 0.1338 - val_accuracy: 0.9885\n",
      "Epoch 24/50\n",
      "438/438 [==============================] - 5s 12ms/step - loss: 0.0037 - accuracy: 0.9989 - val_loss: 0.1478 - val_accuracy: 0.9872\n",
      "Epoch 25/50\n",
      "438/438 [==============================] - 5s 12ms/step - loss: 0.0067 - accuracy: 0.9980 - val_loss: 0.1587 - val_accuracy: 0.9843\n",
      "Epoch 26/50\n",
      "438/438 [==============================] - 5s 11ms/step - loss: 0.0041 - accuracy: 0.9987 - val_loss: 0.2016 - val_accuracy: 0.9862\n",
      "Epoch 27/50\n",
      "438/438 [==============================] - 5s 11ms/step - loss: 0.0029 - accuracy: 0.9990 - val_loss: 0.1711 - val_accuracy: 0.9890\n",
      "Epoch 28/50\n",
      "438/438 [==============================] - 5s 11ms/step - loss: 0.0024 - accuracy: 0.9993 - val_loss: 0.1701 - val_accuracy: 0.9867\n",
      "Epoch 29/50\n",
      "438/438 [==============================] - 5s 12ms/step - loss: 0.0073 - accuracy: 0.9974 - val_loss: 0.1479 - val_accuracy: 0.9887\n",
      "Epoch 30/50\n",
      "438/438 [==============================] - 5s 12ms/step - loss: 0.0047 - accuracy: 0.9985 - val_loss: 0.1890 - val_accuracy: 0.9860\n",
      "Epoch 31/50\n",
      "438/438 [==============================] - 5s 12ms/step - loss: 9.9924e-04 - accuracy: 0.9996 - val_loss: 0.1641 - val_accuracy: 0.9880\n",
      "Epoch 32/50\n",
      "438/438 [==============================] - 5s 11ms/step - loss: 0.0078 - accuracy: 0.9977 - val_loss: 0.1539 - val_accuracy: 0.9880\n",
      "Epoch 33/50\n",
      "438/438 [==============================] - 5s 11ms/step - loss: 0.0054 - accuracy: 0.9987 - val_loss: 0.1398 - val_accuracy: 0.9882\n",
      "Epoch 34/50\n",
      "438/438 [==============================] - 5s 11ms/step - loss: 3.5646e-04 - accuracy: 1.0000 - val_loss: 0.1735 - val_accuracy: 0.9902\n",
      "Epoch 35/50\n",
      "438/438 [==============================] - 5s 11ms/step - loss: 2.6764e-04 - accuracy: 0.9999 - val_loss: 0.1844 - val_accuracy: 0.9900\n",
      "Epoch 36/50\n",
      "438/438 [==============================] - 5s 11ms/step - loss: 0.0085 - accuracy: 0.9974 - val_loss: 0.1569 - val_accuracy: 0.9883\n",
      "Epoch 37/50\n",
      "438/438 [==============================] - 5s 11ms/step - loss: 0.0055 - accuracy: 0.9986 - val_loss: 0.1582 - val_accuracy: 0.9890\n",
      "Epoch 38/50\n",
      "438/438 [==============================] - 5s 11ms/step - loss: 6.9722e-04 - accuracy: 0.9997 - val_loss: 0.1892 - val_accuracy: 0.9883\n",
      "Epoch 39/50\n",
      "438/438 [==============================] - 5s 11ms/step - loss: 0.0041 - accuracy: 0.9992 - val_loss: 0.1682 - val_accuracy: 0.9892\n",
      "Epoch 40/50\n",
      "438/438 [==============================] - 5s 11ms/step - loss: 0.0046 - accuracy: 0.9988 - val_loss: 0.1959 - val_accuracy: 0.9877\n",
      "Epoch 41/50\n",
      "438/438 [==============================] - 5s 11ms/step - loss: 0.0033 - accuracy: 0.9991 - val_loss: 0.1937 - val_accuracy: 0.9877\n",
      "Epoch 42/50\n",
      "438/438 [==============================] - 5s 11ms/step - loss: 9.7156e-04 - accuracy: 0.9996 - val_loss: 0.1836 - val_accuracy: 0.9900\n",
      "Epoch 43/50\n",
      "438/438 [==============================] - 5s 11ms/step - loss: 3.2536e-05 - accuracy: 1.0000 - val_loss: 0.1974 - val_accuracy: 0.9903\n",
      "Epoch 44/50\n",
      "438/438 [==============================] - 5s 11ms/step - loss: 8.8281e-06 - accuracy: 1.0000 - val_loss: 0.2007 - val_accuracy: 0.9903\n",
      "Epoch 45/50\n",
      "438/438 [==============================] - 5s 11ms/step - loss: 6.2392e-06 - accuracy: 1.0000 - val_loss: 0.2037 - val_accuracy: 0.9903\n",
      "Epoch 46/50\n",
      "438/438 [==============================] - 5s 11ms/step - loss: 4.7404e-06 - accuracy: 1.0000 - val_loss: 0.2066 - val_accuracy: 0.9903\n",
      "Epoch 47/50\n",
      "438/438 [==============================] - 5s 11ms/step - loss: 3.6910e-06 - accuracy: 1.0000 - val_loss: 0.2094 - val_accuracy: 0.9903\n",
      "Epoch 48/50\n",
      "438/438 [==============================] - 5s 11ms/step - loss: 2.9314e-06 - accuracy: 1.0000 - val_loss: 0.2122 - val_accuracy: 0.9903\n",
      "Epoch 49/50\n",
      "438/438 [==============================] - 5s 11ms/step - loss: 2.3348e-06 - accuracy: 1.0000 - val_loss: 0.2151 - val_accuracy: 0.9903\n",
      "Epoch 50/50\n",
      "438/438 [==============================] - 5s 11ms/step - loss: 1.8824e-06 - accuracy: 1.0000 - val_loss: 0.2177 - val_accuracy: 0.9903\n"
     ]
    }
   ],
   "source": [
    "model.compile(optimizer = 'adam',\n",
    "              loss = keras.losses.SparseCategoricalCrossentropy(from_logits = True),\n",
    "              metrics = ['accuracy'])\n",
    "history = model.fit(train_data_, train_labels, epochs = 50, \n",
    "                    validation_data = (valid_data_, valid_labels), verbose = False)\n",
    "            "
   ]
  },
  {
   "cell_type": "markdown",
   "metadata": {},
   "source": [
    "Evaluation."
   ]
  },
  {
   "cell_type": "code",
   "execution_count": 10,
   "metadata": {},
   "outputs": [
    {
     "name": "stdout",
     "output_type": "stream",
     "text": [
      "188/188 - 1s - loss: 0.2177 - accuracy: 0.9903 - 602ms/epoch - 3ms/step\n"
     ]
    },
    {
     "data": {
      "image/png": "[encoded data removed]",
      "text/plain": [
       "<Figure size 640x480 with 1 Axes>"
      ]
     },
     "metadata": {},
     "output_type": "display_data"
    }
   ],
   "source": [
    "plt.plot(history.history['accuracy'], label = 'accuracy')\n",
    "plt.plot(history.history['val_accuracy'], label = 'val_accuracy')\n",
    "plt.xlabel('Epoch')\n",
    "plt.ylabel('Accuracy')\n",
    "plt.ylim([0.5, 1])\n",
    "plt.legend(loc='lower right')\n",
    "\n",
    "test_loss, test_acc = model.evaluate(valid_data_,  valid_labels, verbose=2)"
   ]
  },
  {
   "cell_type": "code",
   "execution_count": 11,
   "metadata": {},
   "outputs": [
    {
     "data": {
      "text/plain": [
       "0.9903333187103271"
      ]
     },
     "execution_count": 11,
     "metadata": {},
     "output_type": "execute_result"
    }
   ],
   "source": [
    "# Accuracy\n",
    "test_acc"
   ]
  },
  {
   "cell_type": "markdown",
   "metadata": {},
   "source": [
    "Our model acheived an accuracy of 98%."
   ]
  },
  {
   "cell_type": "markdown",
   "metadata": {},
   "source": [
    "Now we are going to train our model on the hole training data and then predict."
   ]
  },
  {
   "cell_type": "code",
   "execution_count": 22,
   "metadata": {},
   "outputs": [
    {
     "name": "stdout",
     "output_type": "stream",
     "text": [
      "625/625 [==============================] - 2s 3ms/step\n"
     ]
    }
   ],
   "source": [
    "# train the model.\n",
    "model.fit(train_data, labels, epochs = 50, verbose = False)\n",
    "prediction = model.predict(test_data)"
   ]
  },
  {
   "cell_type": "code",
   "execution_count": 58,
   "metadata": {},
   "outputs": [],
   "source": [
    "# prediction = np.array([list(prediction[i]).index(max(prediction[i])) for i in range(len(prediction))])\n",
    "prediction = np.round(prediction)\n"
   ]
  },
  {
   "cell_type": "code",
   "execution_count": 59,
   "metadata": {},
   "outputs": [],
   "source": [
    "np.savetxt('prediction_facial_recognition_TheFisherMan', np.round(np.array(prediction)), delimiter=',')"
   ]
  },
  {
   "cell_type": "markdown",
   "metadata": {},
   "source": [
    "Thank you. 😁"
   ]
  }
 ],
 "metadata": {
  "kernelspec": {
   "display_name": "Python 3.11.0 64-bit",
   "language": "python",
   "name": "python3"
  },
  "language_info": {
   "codemirror_mode": {
    "name": "ipython",
    "version": 3
   },
   "file_extension": ".py",
   "mimetype": "text/x-python",
   "name": "python",
   "nbconvert_exporter": "python",
   "pygments_lexer": "ipython3",
   "version": "3.11.0"
  },
  "orig_nbformat": 4,
  "vscode": {
   "interpreter": {
    "hash": "aee8b7b246df8f9039afb4144a1f6fd8d2ca17a180786b69acc140d282b71a49"
   }
  }
 },
 "nbformat": 4,
 "nbformat_minor": 2
}
