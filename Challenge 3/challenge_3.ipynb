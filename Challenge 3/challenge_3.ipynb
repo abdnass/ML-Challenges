{
 "cells": [
  {
   "cell_type": "markdown",
   "metadata": {},
   "source": [
    "Challenge 3: Facial Expression Classification."
   ]
  },
  {
   "cell_type": "code",
   "execution_count": 27,
   "metadata": {},
   "outputs": [],
   "source": [
    "import numpy as np\n",
    "import matplotlib.pyplot as plt\n",
    "from matplotlib import colors\n",
    "import pandas as pd\n",
    "import seaborn as sns\n",
    "from tensorflow import keras\n",
    "from tensorflow.keras import layers, models\n"
   ]
  },
  {
   "cell_type": "code",
   "execution_count": 13,
   "metadata": {},
   "outputs": [],
   "source": [
    "train_path = '/Users/abdelbastnassiri/Desktop/master studies/ML Challenges/Challenge 3/data_train_Facial.npy'\n",
    "test_path = '/Users/abdelbastnassiri/Desktop/master studies/ML Challenges/Challenge 3/data_test_Facial.npy'\n",
    "lables_path = '/Users/abdelbastnassiri/Desktop/master studies/ML Challenges/Challenge 3/true_labels_Facial_train.csv'\n",
    "train_data = np.load(train_path, allow_pickle = True)\n",
    "test_data = np.load(test_path, allow_pickle = True)\n",
    "labels = np.loadtxt(lables_path)\n",
    "Emotions = ['Happy', 'Sad', 'Angry']\n"
   ]
  },
  {
   "cell_type": "code",
   "execution_count": 22,
   "metadata": {},
   "outputs": [
    {
     "data": {
      "image/png": "[encoded data removed]",
      "text/plain": [
       "<Figure size 640x480 with 9 Axes>"
      ]
     },
     "metadata": {},
     "output_type": "display_data"
    }
   ],
   "source": [
    "for k in range(9):\n",
    "    plt.subplot(3,3,k+1 )\n",
    "    plt.imshow(train_data[k, :, :], cmap = colors.ListedColormap(['white', 'yellow', 'black']))\n",
    "    plt.title(Emotions[int(labels[k])])\n",
    "       "
   ]
  },
  {
   "cell_type": "code",
   "execution_count": 38,
   "metadata": {},
   "outputs": [],
   "source": [
    "# split the Data\n",
    "# shuffle first\n",
    "i = np.arange(train_data.shape[0])\n",
    "np.random.shuffle(i)\n",
    "train_data = train_data[i]\n",
    "labels = labels[i]\n",
    "# split\n",
    "train_data_ = train_data[0:int(train_data.shape[0]*0.7)]\n",
    "train_labels = labels[0:int(train_data.shape[0]*0.7)]\n",
    "valid_data_ = train_data[int(int(train_data.shape[0]*0.7)):train_data.shape[0]]\n",
    "valid_labels = labels[int(int(train_data.shape[0]*0.7)):train_data.shape[0]]"
   ]
  },
  {
   "cell_type": "markdown",
   "metadata": {},
   "source": [
    "For this task we are going to use a Convolutional Neural Network."
   ]
  },
  {
   "cell_type": "markdown",
   "metadata": {},
   "source": [
    "## CNN"
   ]
  },
  {
   "cell_type": "markdown",
   "metadata": {},
   "source": [
    "We define the convolutional base using a stack of Conv2D and MaxPooling2D.\\\n",
    "Our CNN takes as as an input a tensor of shape (35,35, 1)."
   ]
  },
  {
   "cell_type": "code",
   "execution_count": 33,
   "metadata": {},
   "outputs": [],
   "source": [
    "model = models.Sequential()\n",
    "model.add(layers.Conv2D(32, (3, 3), activation = 'relu', input_shape = (35, 35, 1)))\n",
    "model.add(layers.MaxPool2D((2,2)))\n",
    "model.add(layers.Conv2D(64, (3, 3), activation = 'relu'))\n",
    "model.add(layers.MaxPooling2D((2,2)))\n",
    "model.add(layers.Conv2D(64, (3, 3), activation = 'relu'))\n"
   ]
  },
  {
   "cell_type": "code",
   "execution_count": 35,
   "metadata": {},
   "outputs": [
    {
     "name": "stdout",
     "output_type": "stream",
     "text": [
      "Model: \"sequential_4\"\n",
      "_________________________________________________________________\n",
      " Layer (type)                Output Shape              Param #   \n",
      "=================================================================\n",
      " conv2d_6 (Conv2D)           (None, 33, 33, 32)        320       \n",
      "                                                                 \n",
      " max_pooling2d_2 (MaxPoolin  (None, 16, 16, 32)        0         \n",
      " g2D)                                                            \n",
      "                                                                 \n",
      " conv2d_7 (Conv2D)           (None, 14, 14, 64)        18496     \n",
      "                                                                 \n",
      " max_pooling2d_3 (MaxPoolin  (None, 7, 7, 64)          0         \n",
      " g2D)                                                            \n",
      "                                                                 \n",
      " conv2d_8 (Conv2D)           (None, 5, 5, 64)          36928     \n",
      "                                                                 \n",
      "=================================================================\n",
      "Total params: 55744 (217.75 KB)\n",
      "Trainable params: 55744 (217.75 KB)\n",
      "Non-trainable params: 0 (0.00 Byte)\n",
      "_________________________________________________________________\n"
     ]
    }
   ],
   "source": [
    "model.summary()"
   ]
  },
  {
   "cell_type": "markdown",
   "metadata": {},
   "source": [
    "Add the dense layers."
   ]
  },
  {
   "cell_type": "code",
   "execution_count": 36,
   "metadata": {},
   "outputs": [],
   "source": [
    "model.add(layers.Flatten())\n",
    "model.add(layers.Dense(64, activation = 'relu'))\n",
    "model.add(layers.Dense(3))"
   ]
  },
  {
   "cell_type": "markdown",
   "metadata": {},
   "source": [
    "The Architecture of the model."
   ]
  },
  {
   "cell_type": "code",
   "execution_count": 37,
   "metadata": {},
   "outputs": [
    {
     "name": "stdout",
     "output_type": "stream",
     "text": [
      "Model: \"sequential_4\"\n",
      "_________________________________________________________________\n",
      " Layer (type)                Output Shape              Param #   \n",
      "=================================================================\n",
      " conv2d_6 (Conv2D)           (None, 33, 33, 32)        320       \n",
      "                                                                 \n",
      " max_pooling2d_2 (MaxPoolin  (None, 16, 16, 32)        0         \n",
      " g2D)                                                            \n",
      "                                                                 \n",
      " conv2d_7 (Conv2D)           (None, 14, 14, 64)        18496     \n",
      "                                                                 \n",
      " max_pooling2d_3 (MaxPoolin  (None, 7, 7, 64)          0         \n",
      " g2D)                                                            \n",
      "                                                                 \n",
      " conv2d_8 (Conv2D)           (None, 5, 5, 64)          36928     \n",
      "                                                                 \n",
      " flatten (Flatten)           (None, 1600)              0         \n",
      "                                                                 \n",
      " dense (Dense)               (None, 64)                102464    \n",
      "                                                                 \n",
      " dense_1 (Dense)             (None, 3)                 195       \n",
      "                                                                 \n",
      "=================================================================\n",
      "Total params: 158403 (618.76 KB)\n",
      "Trainable params: 158403 (618.76 KB)\n",
      "Non-trainable params: 0 (0.00 Byte)\n",
      "_________________________________________________________________\n"
     ]
    }
   ],
   "source": [
    "model.summary()"
   ]
  },
  {
   "cell_type": "markdown",
   "metadata": {},
   "source": [
    "Compile and train the model."
   ]
  },
  {
   "cell_type": "code",
   "execution_count": 39,
   "metadata": {},
   "outputs": [
    {
     "name": "stdout",
     "output_type": "stream",
     "text": [
      "Epoch 1/10\n",
      "438/438 [==============================] - 5s 10ms/step - loss: 0.3471 - accuracy: 0.8575 - val_loss: 0.1147 - val_accuracy: 0.9738\n",
      "Epoch 2/10\n",
      "438/438 [==============================] - 4s 10ms/step - loss: 0.0840 - accuracy: 0.9828 - val_loss: 0.0850 - val_accuracy: 0.9835\n",
      "Epoch 3/10\n",
      "438/438 [==============================] - 5s 10ms/step - loss: 0.0632 - accuracy: 0.9893 - val_loss: 0.0847 - val_accuracy: 0.9850\n",
      "Epoch 4/10\n",
      "438/438 [==============================] - 5s 10ms/step - loss: 0.0554 - accuracy: 0.9899 - val_loss: 0.0755 - val_accuracy: 0.9872\n",
      "Epoch 5/10\n",
      "438/438 [==============================] - 5s 11ms/step - loss: 0.0494 - accuracy: 0.9913 - val_loss: 0.0844 - val_accuracy: 0.9875\n",
      "Epoch 6/10\n",
      "438/438 [==============================] - 5s 11ms/step - loss: 0.0424 - accuracy: 0.9924 - val_loss: 0.0826 - val_accuracy: 0.9863\n",
      "Epoch 7/10\n",
      "438/438 [==============================] - 5s 11ms/step - loss: 0.0378 - accuracy: 0.9928 - val_loss: 0.0801 - val_accuracy: 0.9865\n",
      "Epoch 8/10\n",
      "438/438 [==============================] - 5s 11ms/step - loss: 0.0326 - accuracy: 0.9939 - val_loss: 0.0868 - val_accuracy: 0.9857\n",
      "Epoch 9/10\n",
      "438/438 [==============================] - 5s 11ms/step - loss: 0.0272 - accuracy: 0.9939 - val_loss: 0.0973 - val_accuracy: 0.9872\n",
      "Epoch 10/10\n",
      "438/438 [==============================] - 5s 11ms/step - loss: 0.0233 - accuracy: 0.9934 - val_loss: 0.1017 - val_accuracy: 0.9883\n"
     ]
    }
   ],
   "source": [
    "model.compile(optimizer = 'adam',\n",
    "              loss = keras.losses.SparseCategoricalCrossentropy(from_logits = True),\n",
    "              metrics = ['accuracy'])\n",
    "history = model.fit(train_data_, train_labels, epochs = 10, \n",
    "                    validation_data = (valid_data_, valid_labels))\n",
    "            "
   ]
  },
  {
   "cell_type": "markdown",
   "metadata": {},
   "source": [
    "Evaluation."
   ]
  },
  {
   "cell_type": "code",
   "execution_count": 41,
   "metadata": {},
   "outputs": [
    {
     "name": "stdout",
     "output_type": "stream",
     "text": [
      "188/188 - 1s - loss: 0.1017 - accuracy: 0.9883 - 546ms/epoch - 3ms/step\n"
     ]
    },
    {
     "data": {
      "image/png": "[encoded data removed]",
      "text/plain": [
       "<Figure size 640x480 with 1 Axes>"
      ]
     },
     "metadata": {},
     "output_type": "display_data"
    }
   ],
   "source": [
    "plt.plot(history.history['accuracy'], label = 'accuracy')\n",
    "plt.plot(history.history['val_accuracy'], label = 'val_accuracy')\n",
    "plt.xlabel('Epoch')\n",
    "plt.ylabel('Accuracy')\n",
    "plt.ylim([0.5, 1])\n",
    "plt.legend(loc='lower right')\n",
    "\n",
    "test_loss, test_acc = model.evaluate(valid_data_,  valid_labels, verbose=2)"
   ]
  },
  {
   "cell_type": "code",
   "execution_count": 42,
   "metadata": {},
   "outputs": [
    {
     "data": {
      "text/plain": [
       "0.9883333444595337"
      ]
     },
     "execution_count": 42,
     "metadata": {},
     "output_type": "execute_result"
    }
   ],
   "source": [
    "# Accuracy\n",
    "test_acc"
   ]
  },
  {
   "cell_type": "markdown",
   "metadata": {},
   "source": [
    "Our model acheived an accuracy of 98%."
   ]
  },
  {
   "cell_type": "markdown",
   "metadata": {},
   "source": [
    "Now we are going to train our model on the hole training data and then predict."
   ]
  },
  {
   "cell_type": "code",
   "execution_count": 44,
   "metadata": {},
   "outputs": [
    {
     "name": "stdout",
     "output_type": "stream",
     "text": [
      "Epoch 1/10\n",
      "625/625 [==============================] - 5s 9ms/step - loss: 0.0416 - accuracy: 0.9920\n",
      "Epoch 2/10\n",
      "625/625 [==============================] - 6s 9ms/step - loss: 0.0321 - accuracy: 0.9933\n",
      "Epoch 3/10\n",
      "625/625 [==============================] - 6s 9ms/step - loss: 0.0274 - accuracy: 0.9938\n",
      "Epoch 4/10\n",
      "625/625 [==============================] - 6s 9ms/step - loss: 0.0224 - accuracy: 0.9946\n",
      "Epoch 5/10\n",
      "625/625 [==============================] - 6s 9ms/step - loss: 0.0174 - accuracy: 0.9950\n",
      "Epoch 6/10\n",
      "625/625 [==============================] - 6s 10ms/step - loss: 0.0151 - accuracy: 0.9954\n",
      "Epoch 7/10\n",
      "625/625 [==============================] - 6s 10ms/step - loss: 0.0090 - accuracy: 0.9972\n",
      "Epoch 8/10\n",
      "625/625 [==============================] - 6s 10ms/step - loss: 0.0147 - accuracy: 0.9954\n",
      "Epoch 9/10\n",
      "625/625 [==============================] - 6s 9ms/step - loss: 0.0071 - accuracy: 0.9976\n",
      "Epoch 10/10\n",
      "625/625 [==============================] - 6s 9ms/step - loss: 0.0083 - accuracy: 0.9973\n",
      "625/625 [==============================] - 2s 3ms/step\n"
     ]
    }
   ],
   "source": [
    "# train the model.\n",
    "model.fit(train_data, labels, epochs = 10)\n",
    "prediction = model.predidct(test_data)"
   ]
  },
  {
   "cell_type": "code",
   "execution_count": 45,
   "metadata": {},
   "outputs": [],
   "source": [
    "np.savetxt('prediction_facial_recognition_TheFisherMan.csv', prediction, delimiter=',')"
   ]
  },
  {
   "cell_type": "markdown",
   "metadata": {},
   "source": [
    "Thank you. 😁"
   ]
  }
 ],
 "metadata": {
  "kernelspec": {
   "display_name": "Python 3.11.0 64-bit",
   "language": "python",
   "name": "python3"
  },
  "language_info": {
   "codemirror_mode": {
    "name": "ipython",
    "version": 3
   },
   "file_extension": ".py",
   "mimetype": "text/x-python",
   "name": "python",
   "nbconvert_exporter": "python",
   "pygments_lexer": "ipython3",
   "version": "3.11.0"
  },
  "orig_nbformat": 4,
  "vscode": {
   "interpreter": {
    "hash": "aee8b7b246df8f9039afb4144a1f6fd8d2ca17a180786b69acc140d282b71a49"
   }
  }
 },
 "nbformat": 4,
 "nbformat_minor": 2
}
